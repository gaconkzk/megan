{
  "nbformat": 4,
  "nbformat_minor": 0,
  "metadata": {
    "colab": {
      "name": "megan.ipynb",
      "version": "0.3.2",
      "provenance": [],
      "private_outputs": true,
      "collapsed_sections": [],
      "toc_visible": true,
      "include_colab_link": true
    },
    "kernelspec": {
      "name": "python3",
      "display_name": "Python 3"
    },
    "accelerator": "GPU"
  },
  "cells": [
    {
      "cell_type": "markdown",
      "metadata": {
        "id": "view-in-github",
        "colab_type": "text"
      },
      "source": [
        "<a href=\"https://colab.research.google.com/github/gaconkzk/megan/blob/master/megan.ipynb\" target=\"_parent\"><img src=\"https://colab.research.google.com/assets/colab-badge.svg\" alt=\"Open In Colab\"/></a>"
      ]
    },
    {
      "cell_type": "markdown",
      "metadata": {
        "id": "AroPkLADNlZ_",
        "colab_type": "text"
      },
      "source": [
        "# Me learning GANs and everything related\n",
        "___\n",
        "\n",
        "GANs learning, testing in cool ways, and all other things that will happened arround the learning path"
      ]
    },
    {
      "cell_type": "markdown",
      "metadata": {
        "id": "p9FoW8wnN8qn",
        "colab_type": "text"
      },
      "source": [
        "## Things we should have before continue\n",
        "\n",
        "1. Google account (developer mode enabled for using Colab - this site)\n",
        "2. Github account (for storing trained model and hosting your testing website - errr are we allowed to do this?)\n",
        "\n",
        "## Pipeline\n",
        "![alt text](https://miro.medium.com/max/323/1*5_tbp1f1HO24mOQz-Cj21w.png)"
      ]
    },
    {
      "cell_type": "markdown",
      "metadata": {
        "id": "w6ChxkjIOcdm",
        "colab_type": "text"
      },
      "source": [
        "**Ignoring below step, you need to do that yourself.**\n",
        "\n",
        "### Setting up your github page"
      ]
    },
    {
      "cell_type": "markdown",
      "metadata": {
        "id": "ABfuDa5_TrPz",
        "colab_type": "text"
      },
      "source": [
        "### Setting up this colab page"
      ]
    },
    {
      "cell_type": "code",
      "metadata": {
        "id": "26tdfk-9RKfA",
        "colab_type": "code",
        "colab": {}
      },
      "source": [
        "!git config --global user.email \"gaconkzk@gmail.com\"\n",
        "!git config --global user.name \"Chuối Quý\"\n",
        "\n",
        "!git clone https://github.com/gaconkzk/megan"
      ],
      "execution_count": 0,
      "outputs": []
    },
    {
      "cell_type": "markdown",
      "metadata": {
        "id": "LnyqYaMMSmQa",
        "colab_type": "text"
      },
      "source": [
        "Go to the project folder"
      ]
    },
    {
      "cell_type": "code",
      "metadata": {
        "id": "ir-JoY_aSV6m",
        "colab_type": "code",
        "colab": {}
      },
      "source": [
        "import os\n",
        "os.chdir('/content/megan')"
      ],
      "execution_count": 0,
      "outputs": []
    },
    {
      "cell_type": "code",
      "metadata": {
        "id": "pdLhC2po2Icj",
        "colab_type": "code",
        "colab": {}
      },
      "source": [
        "!pwd\n",
        "!git pull\n",
        "!ls -al"
      ],
      "execution_count": 0,
      "outputs": []
    },
    {
      "cell_type": "markdown",
      "metadata": {
        "id": "vLDnymX2SrZ3",
        "colab_type": "text"
      },
      "source": [
        "Create two folders for the keras model and the web model"
      ]
    },
    {
      "cell_type": "code",
      "metadata": {
        "id": "M5lDZoIjS3d8",
        "colab_type": "code",
        "colab": {}
      },
      "source": [
        "!mkdir docs/web_model\n",
        "!mkdir saved_model"
      ],
      "execution_count": 0,
      "outputs": []
    },
    {
      "cell_type": "markdown",
      "metadata": {
        "id": "9xtoLzvgTxaT",
        "colab_type": "text"
      },
      "source": [
        "#### Create a model\n",
        "\n",
        "![alt text](https://miro.medium.com/max/152/1*8RmcPqC_f03LaqztF9pZrA.png)\n",
        "\n",
        "Necessary imports:"
      ]
    },
    {
      "cell_type": "code",
      "metadata": {
        "id": "SZYnm7VRNg2N",
        "colab_type": "code",
        "colab": {}
      },
      "source": [
        "from keras.models import Sequential\n",
        "from keras.layers.core import Dense, Dropout, Activation\n",
        "from keras.optimizers import SGD\n",
        "import numpy as np "
      ],
      "execution_count": 0,
      "outputs": []
    },
    {
      "cell_type": "markdown",
      "metadata": {
        "id": "_BW5J479NiPw",
        "colab_type": "text"
      },
      "source": [
        "Prepare inputs and their truth values"
      ]
    },
    {
      "cell_type": "code",
      "metadata": {
        "id": "ywqsnGw4UNHt",
        "colab_type": "code",
        "colab": {}
      },
      "source": [
        "X = np.array([[0,0], [0,1], [1,0], [1,1]])\n",
        "y = np.array([[0], [1], [1], [0]])"
      ],
      "execution_count": 0,
      "outputs": []
    },
    {
      "cell_type": "markdown",
      "metadata": {
        "id": "X1e6r4ZpUdpw",
        "colab_type": "text"
      },
      "source": [
        "Now, we create the model and compile it with SGD optimizer"
      ]
    },
    {
      "cell_type": "code",
      "metadata": {
        "id": "J__E3vr9Ujsq",
        "colab_type": "code",
        "colab": {}
      },
      "source": [
        "model = Sequential()\n",
        "model.add(Dense(8, input_dim=2))\n",
        "model.add(Activation('tanh'))\n",
        "model.add(Dense(1))\n",
        "model.add(Activation('sigmoid'))\n",
        "\n",
        "sgd = SGD(lr=0.1)\n",
        "model.compile(loss='binary_crossentropy', optimizer=sgd)"
      ],
      "execution_count": 0,
      "outputs": []
    },
    {
      "cell_type": "markdown",
      "metadata": {
        "id": "vmSxMTxaUypO",
        "colab_type": "text"
      },
      "source": [
        "We then run the model for 1000 epochs"
      ]
    },
    {
      "cell_type": "code",
      "metadata": {
        "id": "Mdp6dnRdU2NX",
        "colab_type": "code",
        "colab": {}
      },
      "source": [
        "model.fit(X, y, batch_size=1, nb_epoch=1000, verbose= 0)"
      ],
      "execution_count": 0,
      "outputs": []
    },
    {
      "cell_type": "markdown",
      "metadata": {
        "id": "5bw7H_CrVC4s",
        "colab_type": "text"
      },
      "source": [
        "Predict the output results"
      ]
    },
    {
      "cell_type": "code",
      "metadata": {
        "id": "vOfy46mYVE8J",
        "colab_type": "code",
        "colab": {}
      },
      "source": [
        "print(model.predict_proba(X))"
      ],
      "execution_count": 0,
      "outputs": []
    },
    {
      "cell_type": "markdown",
      "metadata": {
        "id": "CfxoOhlmVMli",
        "colab_type": "text"
      },
      "source": [
        "This is important part - save the model for re-used later"
      ]
    },
    {
      "cell_type": "code",
      "metadata": {
        "id": "Zzcj6OwjVSNR",
        "colab_type": "code",
        "colab": {}
      },
      "source": [
        "model.save('saved_model/keras.h5')"
      ],
      "execution_count": 0,
      "outputs": []
    },
    {
      "cell_type": "markdown",
      "metadata": {
        "id": "oNgGK0kDVc7c",
        "colab_type": "text"
      },
      "source": [
        "#### Convert keras Model to Web format\n",
        "\n",
        "Install tensorflowjs library here"
      ]
    },
    {
      "cell_type": "code",
      "metadata": {
        "id": "pcFS8RW_VjR3",
        "colab_type": "code",
        "colab": {}
      },
      "source": [
        "!pip install tensorflowjs"
      ],
      "execution_count": 0,
      "outputs": []
    },
    {
      "cell_type": "markdown",
      "metadata": {
        "id": "bBESvL7EV1g7",
        "colab_type": "text"
      },
      "source": [
        "Converting"
      ]
    },
    {
      "cell_type": "code",
      "metadata": {
        "id": "X-pTfyGiV24y",
        "colab_type": "code",
        "colab": {}
      },
      "source": [
        "!tensorflowjs_converter --input_format keras saved_model/keras.h5 docs/web_model"
      ],
      "execution_count": 0,
      "outputs": []
    },
    {
      "cell_type": "markdown",
      "metadata": {
        "id": "6QR7s7bEWNZv",
        "colab_type": "text"
      },
      "source": [
        "### My webpage - should be another prj - but now very simple"
      ]
    },
    {
      "cell_type": "code",
      "metadata": {
        "id": "omD0-VXtWM_F",
        "colab_type": "code",
        "colab": {}
      },
      "source": [
        "header = '<head><script src=\"https://cdn.jsdelivr.net/npm/@tensorflow/tfjs@0.13.5\"> </script>\\n'"
      ],
      "execution_count": 0,
      "outputs": []
    },
    {
      "cell_type": "markdown",
      "metadata": {
        "id": "vndT9CEvWbX0",
        "colab_type": "text"
      },
      "source": [
        "And the script block inside head"
      ]
    },
    {
      "cell_type": "code",
      "metadata": {
        "id": "_4rP29zOWgCZ",
        "colab_type": "code",
        "colab": {}
      },
      "source": [
        "script = '\\\n",
        "<script>\\n\\\n",
        "          async function loadModel(){ \\n\\\n",
        "              model = await tf.loadModel(\\'web_model/model.json\\') \\n\\\n",
        "              y = model.predict(tf.zeros([1,2])) \\n\\\n",
        "              document.getElementById(\\'out\\').innerHTML = y.dataSync()[0] \\n\\\n",
        "          } \\n\\\n",
        "          loadModel() \\n\\\n",
        "</script>\\n\\\n",
        "</head> \\n'"
      ],
      "execution_count": 0,
      "outputs": []
    },
    {
      "cell_type": "markdown",
      "metadata": {
        "id": "E0VoSpgMWqhA",
        "colab_type": "text"
      },
      "source": [
        "The body block"
      ]
    },
    {
      "cell_type": "code",
      "metadata": {
        "id": "60UCpSDvWr9i",
        "colab_type": "code",
        "colab": {}
      },
      "source": [
        "\n",
        "body = '\\\n",
        "<body>\\n\\\n",
        "        <p id =\\'out\\'></p> \\n\\\n",
        "</body>'"
      ],
      "execution_count": 0,
      "outputs": []
    },
    {
      "cell_type": "markdown",
      "metadata": {
        "id": "b-fxebN5WxL2",
        "colab_type": "text"
      },
      "source": [
        "Save them as `index.html`"
      ]
    },
    {
      "cell_type": "code",
      "metadata": {
        "id": "0D0uEe_9WuwY",
        "colab_type": "code",
        "colab": {}
      },
      "source": [
        "with open('docs/index.html', 'w') as f:\n",
        "  f.write(header+script+body)\n",
        "  f.close()"
      ],
      "execution_count": 0,
      "outputs": []
    },
    {
      "cell_type": "markdown",
      "metadata": {
        "id": "r8sfWC4ZXPKB",
        "colab_type": "text"
      },
      "source": [
        "Push after gen - this step I'll remove will use cooler better web framework instead of html"
      ]
    },
    {
      "cell_type": "code",
      "metadata": {
        "id": "Qkn6yHFPXVW6",
        "colab_type": "code",
        "colab": {}
      },
      "source": [
        "!git add .\n",
        "!git commit -m \"created xor prj\"\n",
        "!git push https://<token-read in github settings/tokens>:x-oauth-basic@github.com/account/project master"
      ],
      "execution_count": 0,
      "outputs": []
    },
    {
      "cell_type": "code",
      "metadata": {
        "id": "RR_KsP-1Zgwh",
        "colab_type": "code",
        "colab": {}
      },
      "source": [
        "# fix me later - mv web_model to docs\n"
      ],
      "execution_count": 0,
      "outputs": []
    }
  ]
}